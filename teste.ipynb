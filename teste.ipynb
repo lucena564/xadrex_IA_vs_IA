{
 "cells": [
  {
   "cell_type": "code",
   "execution_count": null,
   "metadata": {},
   "outputs": [],
   "source": [
    "# Full run\n",
    "import os\n",
    "from dotenv import load_dotenv\n",
    "from menager import Menager\n",
    "\n",
    "load_dotenv()\n",
    "chave_openai = os.getenv(\"OPENAI_API_KEY\")\n",
    "chave_deepseek = os.getenv(\"DEEPSEEK_API_KEY\")\n",
    "\n",
    "menager_match = Menager(chave_openai, chave_deepseek, model_openai=\"gpt-4o\", model_deepseek=\"deepseek-chat\")"
   ]
  },
  {
   "cell_type": "code",
   "execution_count": null,
   "metadata": {},
   "outputs": [],
   "source": [
    "while True:\n",
    "    menager_match.single_moviment()"
   ]
  }
 ],
 "metadata": {
  "kernelspec": {
   "display_name": "tudin",
   "language": "python",
   "name": "python3"
  },
  "language_info": {
   "codemirror_mode": {
    "name": "ipython",
    "version": 3
   },
   "file_extension": ".py",
   "mimetype": "text/x-python",
   "name": "python",
   "nbconvert_exporter": "python",
   "pygments_lexer": "ipython3",
   "version": "3.9.21"
  }
 },
 "nbformat": 4,
 "nbformat_minor": 2
}
